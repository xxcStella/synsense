{
 "cells": [
  {
   "cell_type": "code",
   "execution_count": 1,
   "metadata": {},
   "outputs": [
    {
     "name": "stderr",
     "output_type": "stream",
     "text": [
      "/home/xingchen/anaconda3/envs/synsense/lib/python3.8/site-packages/tqdm/auto.py:21: TqdmWarning: IProgress not found. Please update jupyter and ipywidgets. See https://ipywidgets.readthedocs.io/en/stable/user_install.html\n",
      "  from .autonotebook import tqdm as notebook_tqdm\n"
     ]
    }
   ],
   "source": [
    "import torch\n",
    "from synsense.net.auto import AutoSNN\n",
    "from synsense.net.dataset import Dataset_Texture_Stream\n",
    "import torch.nn as nn"
   ]
  },
  {
   "cell_type": "code",
   "execution_count": null,
   "metadata": {},
   "outputs": [
    {
     "name": "stdout",
     "output_type": "stream",
     "text": [
      "60\n"
     ]
    }
   ],
   "source": [
    "from user import split_train_test\n",
    "root = r'/media/xingchen/T7 Shield/Neuromorphic Data/Xingchen/processed/0220_dataset_iros/general_rotate'\n",
    "train_size = 0.7\n",
    "random_seed = 42\n",
    "train_list, test_list = split_train_test(root, train_size, random_seed)\n",
    "print(len(test_list))"
   ]
  },
  {
   "cell_type": "code",
   "execution_count": 3,
   "metadata": {},
   "outputs": [
    {
     "name": "stdout",
     "output_type": "stream",
     "text": [
      "140 60\n",
      "torch.Size([100, 1, 130, 130]) tensor(2) tensor(6.) tensor(9787.)\n"
     ]
    }
   ],
   "source": [
    "device = \"pc\"\n",
    "gridsize = (130, 130)\n",
    "after_crop_size = (260, 260, 1)\n",
    "n_time_bins = 100\n",
    "\n",
    "train_dataset = Dataset_Texture_Stream(train_list, device, gridsize, after_crop_size, n_time_bins)\n",
    "test_dataset = Dataset_Texture_Stream(test_list, device, gridsize, after_crop_size, n_time_bins)\n",
    "\n",
    "print(len(train_dataset), len(test_dataset))\n",
    "print(train_dataset[0][0].shape, train_dataset[0][1], \n",
    "      train_dataset[0][0].max(), train_dataset[0][0].sum())"
   ]
  },
  {
   "cell_type": "code",
   "execution_count": null,
   "metadata": {},
   "outputs": [],
   "source": []
  },
  {
   "cell_type": "code",
   "execution_count": null,
   "metadata": {},
   "outputs": [
    {
     "name": "stderr",
     "output_type": "stream",
     "text": [
      "/home/xingchen/PhD/synsense/synsense/net/auto.py:249: FutureWarning: You are using `torch.load` with `weights_only=False` (the current default value), which uses the default pickle module implicitly. It is possible to construct malicious pickle data which will execute arbitrary code during unpickling (See https://github.com/pytorch/pytorch/blob/main/SECURITY.md#untrusted-models for more details). In a future release, the default value for `weights_only` will be flipped to `True`. This limits the functions that could be executed during unpickling. Arbitrary objects will no longer be allowed to be loaded via this mode unless they are explicitly allowlisted by the user via `torch.serialization.add_safe_globals`. We recommend you start setting `weights_only=True` for any use case where you don't have full control of the loaded file. Please open an issue on GitHub for any issues related to this experimental feature.\n",
      "  snn = torch.load(model_path).to(device)\n"
     ]
    },
    {
     "name": "stdout",
     "output_type": "stream",
     "text": [
      "test accuracy:  100.00%\n"
     ]
    }
   ],
   "source": [
    "model_path = r'/home/xingchen/PhD/synsense/test/0117-xytp/models/general_rotate-gs130-tl100-ddp.pt'\n",
    "device = \"cuda:0\"\n",
    "auto = AutoSNN(60)\n",
    "auto.test(\n",
    "    test_dataset,\n",
    "    model_path,\n",
    "    device\n",
    ")"
   ]
  },
  {
   "cell_type": "code",
   "execution_count": null,
   "metadata": {},
   "outputs": [],
   "source": []
  },
  {
   "cell_type": "code",
   "execution_count": null,
   "metadata": {},
   "outputs": [],
   "source": []
  }
 ],
 "metadata": {
  "kernelspec": {
   "display_name": "synsense",
   "language": "python",
   "name": "python3"
  },
  "language_info": {
   "codemirror_mode": {
    "name": "ipython",
    "version": 3
   },
   "file_extension": ".py",
   "mimetype": "text/x-python",
   "name": "python",
   "nbconvert_exporter": "python",
   "pygments_lexer": "ipython3",
   "version": "3.8.13"
  }
 },
 "nbformat": 4,
 "nbformat_minor": 2
}
