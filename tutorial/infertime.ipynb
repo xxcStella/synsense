{
 "cells": [
  {
   "cell_type": "code",
   "execution_count": 1,
   "metadata": {},
   "outputs": [
    {
     "name": "stdout",
     "output_type": "stream",
     "text": [
      "True\n"
     ]
    },
    {
     "name": "stderr",
     "output_type": "stream",
     "text": [
      "/home/xingchen/anaconda3/envs/synsense/lib/python3.8/site-packages/tqdm/auto.py:21: TqdmWarning: IProgress not found. Please update jupyter and ipywidgets. See https://ipywidgets.readthedocs.io/en/stable/user_install.html\n",
      "  from .autonotebook import tqdm as notebook_tqdm\n",
      "/home/xingchen/anaconda3/envs/synsense/lib/python3.8/site-packages/torch/cuda/memory.py:343: FutureWarning: torch.cuda.reset_max_memory_allocated now calls torch.cuda.reset_peak_memory_stats, which resets /all/ peak memory stats.\n",
      "  warnings.warn(\n"
     ]
    }
   ],
   "source": [
    "from synsense.net.auto import AutoSNN\n",
    "# from synsense.net.auto_ddp import AutoSNN\n",
    "from synsense.net.datasetTime import Dataset_Texture_Stream\n",
    "import synsense.power.power as power\n",
    "import torch.nn as nn\n",
    "import torch\n",
    "print(torch.cuda.is_available())\n",
    "torch.cuda.empty_cache()\n",
    "torch.cuda.reset_max_memory_allocated()"
   ]
  },
  {
   "cell_type": "code",
   "execution_count": 2,
   "metadata": {},
   "outputs": [
    {
     "name": "stdout",
     "output_type": "stream",
     "text": [
      "700\n"
     ]
    }
   ],
   "source": [
    "from user import split_train_test\n",
    "root = r'/media/xingchen/T7 Shield/Neuromorphic Data/Xingchen/processed/0220_dataset_iros/3simplemotions/0217_slide_processed'\n",
    "train_size = 0.7\n",
    "random_seed = 42\n",
    "train_list, test_list = split_train_test(root, train_size, random_seed)\n",
    "print(len(train_list))"
   ]
  },
  {
   "cell_type": "code",
   "execution_count": 3,
   "metadata": {},
   "outputs": [
    {
     "name": "stderr",
     "output_type": "stream",
     "text": [
      "/home/xingchen/PhD/synsense/synsense/net/auto.py:249: FutureWarning: You are using `torch.load` with `weights_only=False` (the current default value), which uses the default pickle module implicitly. It is possible to construct malicious pickle data which will execute arbitrary code during unpickling (See https://github.com/pytorch/pytorch/blob/main/SECURITY.md#untrusted-models for more details). In a future release, the default value for `weights_only` will be flipped to `True`. This limits the functions that could be executed during unpickling. Arbitrary objects will no longer be allowed to be loaded via this mode unless they are explicitly allowlisted by the user via `torch.serialization.add_safe_globals`. We recommend you start setting `weights_only=True` for any use case where you don't have full control of the loaded file. Please open an issue on GitHub for any issues related to this experimental feature.\n",
      "  snn = torch.load(model_path).to(device)\n"
     ]
    },
    {
     "name": "stdout",
     "output_type": "stream",
     "text": [
      "test accuracy:  10.00%\n",
      "test accuracy:  12.33%\n",
      "test accuracy:  52.00%\n",
      "test accuracy:  53.67%\n",
      "test accuracy:  56.33%\n",
      "test accuracy:  67.33%\n",
      "test accuracy:  78.33%\n",
      "test accuracy:  83.67%\n",
      "test accuracy:  91.33%\n",
      "test accuracy:  97.33%\n",
      "test accuracy:  98.33%\n",
      "test accuracy:  98.67%\n",
      "test accuracy:  98.67%\n",
      "test accuracy:  99.33%\n",
      "test accuracy:  99.33%\n",
      "test accuracy:  99.33%\n",
      "test accuracy:  99.67%\n",
      "test accuracy:  99.67%\n",
      "test accuracy:  99.67%\n",
      "test accuracy:  99.33%\n"
     ]
    }
   ],
   "source": [
    "platform = \"pc\"\n",
    "gridsize = (20, 20)\n",
    "after_crop_size = (260, 260, 1)\n",
    "n_time_bins = 100\n",
    "\n",
    "for i in range(50, 1002, 50):\n",
    "    duration = i*1000\n",
    "    train_dataset = Dataset_Texture_Stream(\n",
    "        train_list, platform, gridsize, after_crop_size, n_time_bins, duration)\n",
    "    test_dataset = Dataset_Texture_Stream(\n",
    "        test_list, platform, gridsize, after_crop_size, n_time_bins, duration)\n",
    "    auto = AutoSNN(300)\n",
    "    model_path = r'/home/xingchen/PhD/synsense/test/0210_slide_tap_rotate/slide/models/0210_slide_event_stream_us.pt'\n",
    "    device = \"cuda:1\"\n",
    "    auto.test(\n",
    "        test_dataset,\n",
    "        model_path,\n",
    "        device\n",
    "    )"
   ]
  },
  {
   "cell_type": "code",
   "execution_count": null,
   "metadata": {},
   "outputs": [],
   "source": []
  }
 ],
 "metadata": {
  "kernelspec": {
   "display_name": "synsense",
   "language": "python",
   "name": "python3"
  },
  "language_info": {
   "codemirror_mode": {
    "name": "ipython",
    "version": 3
   },
   "file_extension": ".py",
   "mimetype": "text/x-python",
   "name": "python",
   "nbconvert_exporter": "python",
   "pygments_lexer": "ipython3",
   "version": "3.8.13"
  }
 },
 "nbformat": 4,
 "nbformat_minor": 2
}
