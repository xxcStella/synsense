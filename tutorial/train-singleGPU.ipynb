{
 "cells": [
  {
   "cell_type": "code",
   "execution_count": 1,
   "metadata": {},
   "outputs": [
    {
     "name": "stdout",
     "output_type": "stream",
     "text": [
      "True\n"
     ]
    },
    {
     "name": "stderr",
     "output_type": "stream",
     "text": [
      "/home/xingchen/anaconda3/envs/synsense/lib/python3.8/site-packages/tqdm/auto.py:21: TqdmWarning: IProgress not found. Please update jupyter and ipywidgets. See https://ipywidgets.readthedocs.io/en/stable/user_install.html\n",
      "  from .autonotebook import tqdm as notebook_tqdm\n"
     ]
    }
   ],
   "source": [
    "from synsense.net.auto import AutoSNN\n",
    "from synsense.net.dataset import Dataset_Texture_Stream\n",
    "import torch.nn as nn\n",
    "import torch\n",
    "print(torch.cuda.is_available())"
   ]
  },
  {
   "cell_type": "markdown",
   "metadata": {},
   "source": [
    "Split train and test data into lists"
   ]
  },
  {
   "cell_type": "code",
   "execution_count": 2,
   "metadata": {},
   "outputs": [],
   "source": [
    "from user import split_train_test\n",
    "root = r'/media/xingchen/T7 Shield/Neuromorphic Data/Xingchen/processed/0220_dataset_iros/general_sliderotate'\n",
    "train_size = 0.7\n",
    "random_seed = 42\n",
    "train_list, test_list = split_train_test(root, train_size, random_seed)"
   ]
  },
  {
   "cell_type": "markdown",
   "metadata": {},
   "source": [
    "Dataset creation"
   ]
  },
  {
   "cell_type": "code",
   "execution_count": 3,
   "metadata": {},
   "outputs": [
    {
     "name": "stdout",
     "output_type": "stream",
     "text": [
      "3500 1500\n",
      "torch.Size([100, 1, 130, 130]) tensor(2) tensor(4.) tensor(457.)\n"
     ]
    }
   ],
   "source": [
    "device = \"pc\"\n",
    "# gridsize = (20, 20)\n",
    "gridsize = (130, 130)\n",
    "after_crop_size = (260, 260, 1)\n",
    "# n_time_bins = 40\n",
    "n_time_bins = 100\n",
    "\n",
    "train_dataset = Dataset_Texture_Stream(train_list, device, gridsize, after_crop_size, n_time_bins)\n",
    "test_dataset = Dataset_Texture_Stream(test_list, device, gridsize, after_crop_size, n_time_bins)\n",
    "\n",
    "print(len(train_dataset), len(test_dataset))\n",
    "print(train_dataset[0][0].shape, train_dataset[0][1], \n",
    "      train_dataset[0][0].max(), train_dataset[0][0].sum())"
   ]
  },
  {
   "cell_type": "code",
   "execution_count": 21,
   "metadata": {},
   "outputs": [
    {
     "name": "stdout",
     "output_type": "stream",
     "text": [
      "K fold: 0\n",
      "epoch: 0; Accuracy:  17.52%; Loss:  39.43; current_lr:  0.001000\n",
      "epoch: 1; Accuracy:  29.37%; Loss:  34.87; current_lr:  0.001000\n",
      "epoch: 2; Accuracy:  37.59%; Loss:  31.07; current_lr:  0.001000\n",
      "epoch: 3; Accuracy:  49.57%; Loss:  25.41; current_lr:  0.001000\n",
      "epoch: 4; Accuracy:  57.86%; Loss:  20.79; current_lr:  0.001000\n",
      "epoch: 5; Accuracy:  64.77%; Loss:  17.73; current_lr:  0.001000\n",
      "epoch: 6; Accuracy:  69.05%; Loss:  15.72; current_lr:  0.001000\n",
      "epoch: 7; Accuracy:  69.46%; Loss:  15.70; current_lr:  0.001000\n",
      "epoch: 8; Accuracy:  73.39%; Loss:  13.22; current_lr:  0.001000\n",
      "val accuray:  75.74%\n",
      "K fold: 1\n",
      "epoch: 0; Accuracy:  16.70%; Loss:  39.52; current_lr:  0.001000\n",
      "epoch: 1; Accuracy:  29.89%; Loss:  34.82; current_lr:  0.001000\n",
      "epoch: 2; Accuracy:  38.53%; Loss:  30.85; current_lr:  0.001000\n",
      "epoch: 3; Accuracy:  47.86%; Loss:  26.49; current_lr:  0.001000\n",
      "epoch: 4; Accuracy:  55.93%; Loss:  21.79; current_lr:  0.001000\n",
      "epoch: 5; Accuracy:  63.72%; Loss:  18.14; current_lr:  0.001000\n",
      "epoch: 6; Accuracy:  68.68%; Loss:  15.86; current_lr:  0.001000\n",
      "epoch: 7; Accuracy:  71.81%; Loss:  14.04; current_lr:  0.001000\n",
      "epoch: 8; Accuracy:  72.82%; Loss:  13.35; current_lr:  0.001000\n",
      "val accuray:  73.57%\n",
      "K fold: 2\n",
      "epoch: 0; Accuracy:  17.37%; Loss:  39.32; current_lr:  0.001000\n",
      "epoch: 1; Accuracy:  31.15%; Loss:  34.33; current_lr:  0.001000\n",
      "epoch: 2; Accuracy:  40.38%; Loss:  30.19; current_lr:  0.001000\n",
      "epoch: 3; Accuracy:  48.41%; Loss:  26.67; current_lr:  0.001000\n",
      "epoch: 4; Accuracy:  56.55%; Loss:  21.47; current_lr:  0.001000\n",
      "epoch: 5; Accuracy:  64.67%; Loss:  17.92; current_lr:  0.001000\n",
      "epoch: 6; Accuracy:  69.39%; Loss:  15.34; current_lr:  0.001000\n",
      "epoch: 7; Accuracy:  70.65%; Loss:  14.63; current_lr:  0.001000\n",
      "epoch: 8; Accuracy:  70.88%; Loss:  14.98; current_lr:  0.001000\n",
      "val accuray:  73.44%\n"
     ]
    }
   ],
   "source": [
    "batch_size = 600\n",
    "auto = AutoSNN(batch_size)\n",
    "model_path = r'./models/0127_24000_event_stream_us.pt'\n",
    "device = \"cuda:0\"\n",
    "k_folds = 3\n",
    "epochs = 9\n",
    "step_size = 10\n",
    "cnn = nn.Sequential(\n",
    "    nn.Conv2d(1, 8, 3, 1, bias=False),\n",
    "    nn.ReLU(),\n",
    "    nn.AvgPool2d(2, 2),\n",
    "    nn.Conv2d(8, 16, 3, 1, bias=False),\n",
    "    nn.ReLU(),\n",
    "    nn.AvgPool2d(2, 2),\n",
    "    nn.Flatten(),\n",
    "    nn.Linear(144, 256, bias=False),\n",
    "    nn.ReLU(),\n",
    "    nn.Linear(256, 72, bias=False),\n",
    "    nn.ReLU(),\n",
    "    nn.Linear(72, 10, bias=False)\n",
    ")\n",
    "\n",
    "train_accs, val_accs = auto.train(\n",
    "    model_path=model_path, \n",
    "    model=cnn, \n",
    "    train_dataset=train_dataset, \n",
    "    device=device, \n",
    "    k_folds=k_folds, \n",
    "    epochs=epochs,\n",
    "    step_size = step_size\n",
    "    )"
   ]
  },
  {
   "cell_type": "code",
   "execution_count": 26,
   "metadata": {},
   "outputs": [
    {
     "data": {
      "text/plain": [
       "([tensor(0.7339, device='cuda:0'),\n",
       "  tensor(0.7282, device='cuda:0'),\n",
       "  tensor(0.7088, device='cuda:0')],\n",
       " [tensor(0.7574, device='cuda:0'),\n",
       "  tensor(0.7357, device='cuda:0'),\n",
       "  tensor(0.7344, device='cuda:0')])"
      ]
     },
     "execution_count": 26,
     "metadata": {},
     "output_type": "execute_result"
    }
   ],
   "source": [
    "train_accs, val_accs"
   ]
  },
  {
   "cell_type": "markdown",
   "metadata": {},
   "source": [
    "Test on PC"
   ]
  },
  {
   "cell_type": "code",
   "execution_count": 31,
   "metadata": {},
   "outputs": [
    {
     "name": "stdout",
     "output_type": "stream",
     "text": [
      "test accuracy:  74.61%\n"
     ]
    }
   ],
   "source": [
    "model_path = r'./models/0127_24000_event_stream_us.pt'\n",
    "device = \"cuda:0\"\n",
    "auto.test(\n",
    "    test_dataset,\n",
    "    model_path,\n",
    "    device\n",
    ")"
   ]
  },
  {
   "cell_type": "code",
   "execution_count": 4,
   "metadata": {},
   "outputs": [
    {
     "name": "stderr",
     "output_type": "stream",
     "text": [
      "/home/xingchen/PhD/synsense/synsense/net/auto.py:249: FutureWarning: You are using `torch.load` with `weights_only=False` (the current default value), which uses the default pickle module implicitly. It is possible to construct malicious pickle data which will execute arbitrary code during unpickling (See https://github.com/pytorch/pytorch/blob/main/SECURITY.md#untrusted-models for more details). In a future release, the default value for `weights_only` will be flipped to `True`. This limits the functions that could be executed during unpickling. Arbitrary objects will no longer be allowed to be loaded via this mode unless they are explicitly allowlisted by the user via `torch.serialization.add_safe_globals`. We recommend you start setting `weights_only=True` for any use case where you don't have full control of the loaded file. Please open an issue on GitHub for any issues related to this experimental feature.\n",
      "  snn = torch.load(model_path).to(device)\n"
     ]
    },
    {
     "name": "stdout",
     "output_type": "stream",
     "text": [
      "test accuracy:  79.67%\n"
     ]
    }
   ],
   "source": [
    "auto = AutoSNN(100)\n",
    "model_path = r'/home/xingchen/PhD/synsense/test/0117-xytp/models/general_slide-gs130-tl100-ddp.pt'\n",
    "device = \"cuda:1\"\n",
    "auto.test(\n",
    "    test_dataset,\n",
    "    model_path,\n",
    "    device\n",
    ")"
   ]
  },
  {
   "cell_type": "markdown",
   "metadata": {},
   "source": [
    "Test on board"
   ]
  },
  {
   "cell_type": "code",
   "execution_count": null,
   "metadata": {},
   "outputs": [],
   "source": [
    "from synsense.board.deploy import DeploySpeck\n",
    "from torch.utils.data.dataset import Subset\n",
    "\n",
    "model_path = r'/home/xingchen/PhD/synsense/test/0117-xytp/models/general_sliderotate-gs130-tl100-ddp.pt'\n",
    "platform = \"speck\"\n",
    "test_dataset = Dataset_Texture_Stream(test_list, platform, gridsize, after_crop_size, n_time_bins)\n",
    "# sub_test_dataset = Subset(test_dataset, range(0, 7200, 25))\n",
    "sub_test_dataset = Subset(test_dataset, range(0, 1500, 5))\n",
    "\n",
    "# ds = DeploySpeck((1,20,20))\n",
    "ds = DeploySpeck((1,130,130))\n",
    "board = ds.open_device()\n",
    "dynapcnn = ds.deploy_net_on_Speck(model_path)\n",
    "ps = ds.infer(sub_test_dataset, dynapcnn, board)"
   ]
  },
  {
   "cell_type": "code",
   "execution_count": 33,
   "metadata": {},
   "outputs": [
    {
     "name": "stdout",
     "output_type": "stream",
     "text": [
      "Board closed successfully.\n"
     ]
    }
   ],
   "source": [
    "ds.close_device(board)"
   ]
  },
  {
   "cell_type": "code",
   "execution_count": null,
   "metadata": {},
   "outputs": [],
   "source": []
  }
 ],
 "metadata": {
  "kernelspec": {
   "display_name": "synsense",
   "language": "python",
   "name": "python3"
  },
  "language_info": {
   "codemirror_mode": {
    "name": "ipython",
    "version": 3
   },
   "file_extension": ".py",
   "mimetype": "text/x-python",
   "name": "python",
   "nbconvert_exporter": "python",
   "pygments_lexer": "ipython3",
   "version": "3.8.13"
  }
 },
 "nbformat": 4,
 "nbformat_minor": 2
}
